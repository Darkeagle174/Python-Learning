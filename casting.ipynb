{
 "cells": [
  {
   "cell_type": "markdown",
   "id": "0797dd8b",
   "metadata": {},
   "source": [
    "Python Casting"
   ]
  },
  {
   "cell_type": "markdown",
   "id": "d2002b8a",
   "metadata": {},
   "source": [
    "Used to specify variable type. This can be done using Casting."
   ]
  },
  {
   "cell_type": "markdown",
   "id": "59896274",
   "metadata": {},
   "source": [
    "It is done using Constructor functions like:\n",
    "1) int() for integers/whole no.s\n",
    "2) float() for floating points/ decimals\n",
    "3) str() for string literals"
   ]
  },
  {
   "cell_type": "code",
   "execution_count": 1,
   "id": "c6266c78",
   "metadata": {},
   "outputs": [
    {
     "name": "stdout",
     "output_type": "stream",
     "text": [
      "1\n",
      "2.0\n",
      "4\n"
     ]
    }
   ],
   "source": [
    "x = int(1.4)\n",
    "y = float(2)\n",
    "z = str(4)\n",
    "print(x)\n",
    "print(y)\n",
    "print(z)"
   ]
  }
 ],
 "metadata": {
  "kernelspec": {
   "display_name": "Python 3",
   "language": "python",
   "name": "python3"
  },
  "language_info": {
   "codemirror_mode": {
    "name": "ipython",
    "version": 3
   },
   "file_extension": ".py",
   "mimetype": "text/x-python",
   "name": "python",
   "nbconvert_exporter": "python",
   "pygments_lexer": "ipython3",
   "version": "3.11.0"
  }
 },
 "nbformat": 4,
 "nbformat_minor": 5
}
