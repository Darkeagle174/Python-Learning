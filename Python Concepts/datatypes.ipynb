{
 "cells": [
  {
   "cell_type": "markdown",
   "id": "28841dd2",
   "metadata": {},
   "source": [
    "Python Data Types"
   ]
  },
  {
   "cell_type": "markdown",
   "id": "40a79f0d",
   "metadata": {},
   "source": [
    "Built-In Data Types in Python:\n",
    "\n",
    "Text type: str(string)\n",
    "Numeric Types: int(integer), float, complex\n",
    "Sequence Types: list, tuple, range\n",
    "Mapping Type: dict(dictionary)\n",
    "Set Types: set, frozenset\n",
    "Boolean Type: bool\n",
    "None Type: NoneType"
   ]
  },
  {
   "cell_type": "markdown",
   "id": "13c541a2",
   "metadata": {},
   "source": [
    "Getting the Data Type we use type() function"
   ]
  },
  {
   "cell_type": "code",
   "execution_count": 1,
   "id": "e0cd16cb",
   "metadata": {},
   "outputs": [
    {
     "name": "stdout",
     "output_type": "stream",
     "text": [
      "<class 'int'>\n"
     ]
    }
   ],
   "source": [
    "x = 5\n",
    "print(type(x))"
   ]
  },
  {
   "cell_type": "markdown",
   "id": "46e26d98",
   "metadata": {},
   "source": [
    "In Python the data type set when you assign the value to a variable\n",
    "\n",
    "to set a variable to a specific data type we can use the following constructor functions\n",
    "\n",
    "str(), int(), float(), complex(), list(), tuple(), range(), dict(), set(), frozenset(), bool(), bytes(), bytearray(), memoryview()"
   ]
  },
  {
   "cell_type": "markdown",
   "id": "86fb8f0e",
   "metadata": {},
   "source": [
    "Python Numbers\n",
    "3 numeric types: int float complex"
   ]
  },
  {
   "cell_type": "code",
   "execution_count": 2,
   "id": "a33d7cae",
   "metadata": {},
   "outputs": [
    {
     "name": "stdout",
     "output_type": "stream",
     "text": [
      "<class 'int'>\n",
      "<class 'float'>\n",
      "<class 'complex'>\n"
     ]
    }
   ],
   "source": [
    "x = 1 # int\n",
    "y = 1.5 # float\n",
    "z = 1j # complex\n",
    "\n",
    "print(type(x))\n",
    "print(type(y))\n",
    "print(type(z))\n"
   ]
  },
  {
   "cell_type": "markdown",
   "id": "317d7a3d",
   "metadata": {},
   "source": [
    "Int: Integer is a whole number, +ve or -ve without decimals of unlimited length"
   ]
  },
  {
   "cell_type": "code",
   "execution_count": 3,
   "id": "3e9e751e",
   "metadata": {},
   "outputs": [
    {
     "name": "stdout",
     "output_type": "stream",
     "text": [
      "<class 'int'>\n",
      "<class 'int'>\n",
      "<class 'int'>\n"
     ]
    }
   ],
   "source": [
    "x = 12\n",
    "y = 32343654443423\n",
    "z = -34444783\n",
    "\n",
    "print(type(x))\n",
    "print(type(y))\n",
    "print(type(z))"
   ]
  },
  {
   "cell_type": "markdown",
   "id": "3fef19cc",
   "metadata": {},
   "source": [
    "float: Floating point number is a no. +ve or -ve containing 1 or more decimals "
   ]
  },
  {
   "cell_type": "code",
   "execution_count": 5,
   "id": "b318a1cc",
   "metadata": {},
   "outputs": [
    {
     "name": "stdout",
     "output_type": "stream",
     "text": [
      "<class 'float'>\n",
      "<class 'float'>\n",
      "<class 'float'>\n",
      "<class 'float'>\n"
     ]
    }
   ],
   "source": [
    "x = 1.2\n",
    "y = 3.2343654443423\n",
    "z = -3444.4783\n",
    "a = 1.0e5\n",
    "\n",
    "print(type(x))\n",
    "print(type(y))\n",
    "print(type(z))\n",
    "print(type(a))"
   ]
  },
  {
   "cell_type": "markdown",
   "id": "46f840ea",
   "metadata": {},
   "source": [
    "Complex no.s are written with a \"j\" as the imaginary part"
   ]
  },
  {
   "cell_type": "code",
   "execution_count": 6,
   "id": "cabedffb",
   "metadata": {},
   "outputs": [
    {
     "name": "stdout",
     "output_type": "stream",
     "text": [
      "<class 'complex'>\n",
      "<class 'complex'>\n",
      "<class 'complex'>\n"
     ]
    }
   ],
   "source": [
    "x = 12 + 1j\n",
    "y = 32343654443423j\n",
    "z = -34444783j\n",
    "\n",
    "print(type(x))\n",
    "print(type(y))\n",
    "print(type(z))"
   ]
  },
  {
   "cell_type": "markdown",
   "id": "c14d0603",
   "metadata": {},
   "source": [
    "Type Conversion \n",
    "you can convert from one type from another using int() float() complex()"
   ]
  },
  {
   "cell_type": "code",
   "execution_count": 9,
   "id": "8ba0bd48",
   "metadata": {},
   "outputs": [
    {
     "name": "stdout",
     "output_type": "stream",
     "text": [
      "<class 'float'>\n",
      "<class 'int'>\n",
      "<class 'complex'>\n"
     ]
    }
   ],
   "source": [
    "x = 1\n",
    "y = 3.6\n",
    "z = 6j\n",
    "\n",
    "a = float(x)\n",
    "b= int(y)\n",
    "c = complex(x)\n",
    "#d = int(z) # This will raise an error because you cannot convert complex to any another type\n",
    "\n",
    "print(type(a))\n",
    "print(type(b))\n",
    "print(type(c))\n",
    "# print(type(d))"
   ]
  },
  {
   "cell_type": "markdown",
   "id": "df046d1f",
   "metadata": {},
   "source": [
    "Random Number\n",
    "\n",
    "for this we need to use built in module called random as oython doesnt have random()  func to make random no.s"
   ]
  },
  {
   "cell_type": "code",
   "execution_count": 17,
   "id": "157fd2cf",
   "metadata": {},
   "outputs": [
    {
     "name": "stdout",
     "output_type": "stream",
     "text": [
      "68\n"
     ]
    }
   ],
   "source": [
    "import random\n",
    "print(random.randrange(1, 100))"
   ]
  }
 ],
 "metadata": {
  "kernelspec": {
   "display_name": "Python 3",
   "language": "python",
   "name": "python3"
  },
  "language_info": {
   "codemirror_mode": {
    "name": "ipython",
    "version": 3
   },
   "file_extension": ".py",
   "mimetype": "text/x-python",
   "name": "python",
   "nbconvert_exporter": "python",
   "pygments_lexer": "ipython3",
   "version": "3.11.0"
  }
 },
 "nbformat": 4,
 "nbformat_minor": 5
}
