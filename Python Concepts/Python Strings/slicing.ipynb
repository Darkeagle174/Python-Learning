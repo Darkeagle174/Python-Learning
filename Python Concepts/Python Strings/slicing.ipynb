{
 "cells": [
  {
   "cell_type": "markdown",
   "id": "2136c2aa",
   "metadata": {},
   "source": [
    "String  Slicing\n",
    "You can return a range of characters of a string by specifying a start index and end index"
   ]
  },
  {
   "cell_type": "code",
   "execution_count": 1,
   "id": "a1845cff",
   "metadata": {},
   "outputs": [
    {
     "name": "stdout",
     "output_type": "stream",
     "text": [
      "FF is Sh\n"
     ]
    }
   ],
   "source": [
    "x = \"AIFF is Shit\"\n",
    "print(x[2:10]) #prints the characters from index 2 to index 9"
   ]
  },
  {
   "cell_type": "markdown",
   "id": "cf34c2e5",
   "metadata": {},
   "source": [
    "Slice at Start\n",
    "We directly slice a string starting from start by not specifying a start index"
   ]
  },
  {
   "cell_type": "code",
   "execution_count": 1,
   "id": "9060a86f",
   "metadata": {},
   "outputs": [
    {
     "name": "stdout",
     "output_type": "stream",
     "text": [
      "Best Time\n"
     ]
    }
   ],
   "source": [
    "x = \"Best Time for *** in India\"\n",
    "print(x[:9])"
   ]
  },
  {
   "cell_type": "markdown",
   "id": "3ed9fdbb",
   "metadata": {},
   "source": [
    "Slice at End\n",
    "We start anywhere and go till the end index "
   ]
  },
  {
   "cell_type": "code",
   "execution_count": 2,
   "id": "449758c2",
   "metadata": {},
   "outputs": [
    {
     "name": "stdout",
     "output_type": "stream",
     "text": [
      "rpool Beat Athletic Bilbao\n"
     ]
    }
   ],
   "source": [
    "x = \"Liverpool Beat Athletic Bilbao\"\n",
    "print(x[4:]) #prints the characters from index 4 to the end"
   ]
  },
  {
   "cell_type": "markdown",
   "id": "cdd89608",
   "metadata": {},
   "source": [
    "Negative Indexing\n",
    "It starts index from reverse i.e. the last instead from starting from the beginning"
   ]
  },
  {
   "cell_type": "code",
   "execution_count": 3,
   "id": "d1532e6a",
   "metadata": {},
   "outputs": [
    {
     "name": "stdout",
     "output_type": "stream",
     "text": [
      "orkshop is going \n"
     ]
    }
   ],
   "source": [
    "x = \"AI Workshop is going shit\"\n",
    "print(x[4:-4])"
   ]
  }
 ],
 "metadata": {
  "kernelspec": {
   "display_name": "Python 3",
   "language": "python",
   "name": "python3"
  },
  "language_info": {
   "codemirror_mode": {
    "name": "ipython",
    "version": 3
   },
   "file_extension": ".py",
   "mimetype": "text/x-python",
   "name": "python",
   "nbconvert_exporter": "python",
   "pygments_lexer": "ipython3",
   "version": "3.11.0"
  }
 },
 "nbformat": 4,
 "nbformat_minor": 5
}
