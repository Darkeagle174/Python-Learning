{
 "cells": [
  {
   "cell_type": "markdown",
   "id": "0cfe68cb",
   "metadata": {},
   "source": [
    "String Concatenation\n",
    "\n",
    "Concatenate means combining 2 strings using + operator "
   ]
  },
  {
   "cell_type": "code",
   "execution_count": 1,
   "id": "c038d14a",
   "metadata": {},
   "outputs": [
    {
     "name": "stdout",
     "output_type": "stream",
     "text": [
      "Delhi is the Capital of India\n"
     ]
    }
   ],
   "source": [
    "a = \"Delhi is the\"\n",
    "b = \"Capital of India\"\n",
    "print(a + \" \" + b)"
   ]
  }
 ],
 "metadata": {
  "kernelspec": {
   "display_name": "Python 3",
   "language": "python",
   "name": "python3"
  },
  "language_info": {
   "codemirror_mode": {
    "name": "ipython",
    "version": 3
   },
   "file_extension": ".py",
   "mimetype": "text/x-python",
   "name": "python",
   "nbconvert_exporter": "python",
   "pygments_lexer": "ipython3",
   "version": "3.11.0"
  }
 },
 "nbformat": 4,
 "nbformat_minor": 5
}
