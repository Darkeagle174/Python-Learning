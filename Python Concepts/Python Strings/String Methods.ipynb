{
 "cells": [
  {
   "cell_type": "markdown",
   "id": "43cf7baa",
   "metadata": {},
   "source": [
    "String Methods\n",
    "These are the built in string method in python \n"
   ]
  },
  {
   "cell_type": "markdown",
   "id": "801c82d5",
   "metadata": {},
   "source": [
    "captilize() - Converts the 1st character to uppercase"
   ]
  },
  {
   "cell_type": "markdown",
   "id": "0f6f328c",
   "metadata": {},
   "source": [
    "casefold() - Converts string to lowercase"
   ]
  },
  {
   "cell_type": "markdown",
   "id": "5e5ca3bd",
   "metadata": {},
   "source": [
    "center() - returns a centered string"
   ]
  },
  {
   "cell_type": "markdown",
   "id": "65f650c3",
   "metadata": {},
   "source": [
    "count() - returns the no. of times a specified value occurs in a string"
   ]
  },
  {
   "cell_type": "markdown",
   "id": "a58990a7",
   "metadata": {},
   "source": [
    "encode() - returns an encoded version of the string"
   ]
  },
  {
   "cell_type": "markdown",
   "id": "6282cc12",
   "metadata": {},
   "source": [
    "endswith() - returns true if the string ends with specified value"
   ]
  },
  {
   "cell_type": "markdown",
   "id": "7f56ed8e",
   "metadata": {},
   "source": [
    "expandtabs() - set tab size of the string "
   ]
  },
  {
   "cell_type": "markdown",
   "id": "e90d2093",
   "metadata": {},
   "source": [
    "find() - searches the strings for a specified value and returns it position or indexed"
   ]
  },
  {
   "cell_type": "markdown",
   "id": "57b43732",
   "metadata": {},
   "source": [
    "format() - formats pecified values in a string"
   ]
  },
  {
   "cell_type": "markdown",
   "id": "6a69a38c",
   "metadata": {},
   "source": [
    "format_map() - formats specified value in strings"
   ]
  },
  {
   "cell_type": "markdown",
   "id": "889cd595",
   "metadata": {},
   "source": [
    "index() - searches the string for a specified value and returns the position of where it was found"
   ]
  },
  {
   "cell_type": "markdown",
   "id": "dd88dda6",
   "metadata": {},
   "source": [
    "isalnum() -returns true is all characters are num  "
   ]
  },
  {
   "cell_type": "markdown",
   "id": "f223b068",
   "metadata": {},
   "source": [
    "isalpha() Returns true if all chars are alphabet"
   ]
  },
  {
   "cell_type": "markdown",
   "id": "3ad8a3c5",
   "metadata": {},
   "source": [
    "isascii() - returns true if all chars are ascii chars"
   ]
  },
  {
   "cell_type": "markdown",
   "id": "8c7b46e1",
   "metadata": {},
   "source": [
    "isdecimal() - returns true if all chars are decimals"
   ]
  },
  {
   "cell_type": "markdown",
   "id": "dc5d4105",
   "metadata": {},
   "source": [
    "isdigit() - returns true if all chars in string are digits"
   ]
  },
  {
   "cell_type": "markdown",
   "id": "fad3fa7f",
   "metadata": {},
   "source": [
    "isidentifer() - returns true if the strings are identifers"
   ]
  },
  {
   "cell_type": "markdown",
   "id": "be4256a1",
   "metadata": {},
   "source": [
    "islower() - returns true if all the chars in string are lowercase"
   ]
  },
  {
   "cell_type": "markdown",
   "id": "f1edc132",
   "metadata": {},
   "source": [
    "isnumeric() - returns true if all teh characters in string are numeric"
   ]
  },
  {
   "cell_type": "markdown",
   "id": "3a328866",
   "metadata": {},
   "source": [
    "\n",
    "Method\tDescription\n",
    "capitalize()\tConverts the first character to upper case\n",
    "casefold()\tConverts string into lower case\n",
    "center()\tReturns a centered string\n",
    "count()\tReturns the number of times a specified value occurs in a string\n",
    "encode()\tReturns an encoded version of the string\n",
    "endswith()\tReturns true if the string ends with the specified value\n",
    "expandtabs()\tSets the tab size of the string\n",
    "find()\tSearches the string for a specified value and returns the position of where it was found\n",
    "format()\tFormats specified values in a string\n",
    "format_map()\tFormats specified values in a string\n",
    "index()\tSearches the string for a specified value and returns the position of where it was found\n",
    "isalnum()\tReturns True if all characters in the string are alphanumeric\n",
    "isalpha()\tReturns True if all characters in the string are in the alphabet\n",
    "isascii()\tReturns True if all characters in the string are ascii characters\n",
    "isdecimal()\tReturns True if all characters in the string are decimals\n",
    "isdigit()\tReturns True if all characters in the string are digits\n",
    "isidentifier()\tReturns True if the string is an identifier\n",
    "islower()\tReturns True if all characters in the string are lower case\n",
    "isnumeric()\tReturns True if all characters in the string are numeric\n",
    "isprintable()\tReturns True if all characters in the string are printable\n",
    "isspace()\tReturns True if all characters in the string are whitespaces\n",
    "istitle()\tReturns True if the string follows the rules of a title\n",
    "isupper()\tReturns True if all characters in the string are upper case\n",
    "join()\tJoins the elements of an iterable to the end of the string\n",
    "ljust()\tReturns a left justified version of the string\n",
    "lower()\tConverts a string into lower case\n",
    "lstrip()\tReturns a left trim version of the string\n",
    "maketrans()\tReturns a translation table to be used in translations\n",
    "partition()\tReturns a tuple where the string is parted into three parts\n",
    "replace()\tReturns a string where a specified value is replaced with a specified value\n",
    "rfind()\tSearches the string for a specified value and returns the last position of where it was found\n",
    "rindex()\tSearches the string for a specified value and returns the last position of where it was found\n",
    "rjust()\tReturns a right justified version of the string\n",
    "rpartition()\tReturns a tuple where the string is parted into three parts\n",
    "rsplit()\tSplits the string at the specified separator, and returns a list\n",
    "rstrip()\tReturns a right trim version of the string\n",
    "split()\tSplits the string at the specified separator, and returns a list\n",
    "splitlines()\tSplits the string at line breaks and returns a list\n",
    "startswith()\tReturns true if the string starts with the specified value\n",
    "strip()\tReturns a trimmed version of the string\n",
    "swapcase()\tSwaps cases, lower case becomes upper case and vice versa\n",
    "title()\tConverts the first character of each word to upper case\n",
    "translate()\tReturns a translated string\n",
    "upper()\tConverts a string into upper case\n",
    "zfill()\tFills the string with a specified number of 0 values at the beginning\n"
   ]
  },
  {
   "cell_type": "markdown",
   "id": "5aa8f545",
   "metadata": {},
   "source": []
  }
 ],
 "metadata": {
  "language_info": {
   "name": "python"
  }
 },
 "nbformat": 4,
 "nbformat_minor": 5
}
