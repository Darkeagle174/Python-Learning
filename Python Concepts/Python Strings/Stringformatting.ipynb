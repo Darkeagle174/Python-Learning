{
 "cells": [
  {
   "cell_type": "markdown",
   "id": "a7f99fe5",
   "metadata": {},
   "source": [
    "String Format\n",
    "\n",
    "We can only print strings using the python print statement while using \"\""
   ]
  },
  {
   "cell_type": "code",
   "execution_count": 1,
   "id": "818e211d",
   "metadata": {},
   "outputs": [
    {
     "ename": "TypeError",
     "evalue": "can only concatenate str (not \"int\") to str",
     "output_type": "error",
     "traceback": [
      "\u001b[1;31m---------------------------------------------------------------------------\u001b[0m",
      "\u001b[1;31mTypeError\u001b[0m                                 Traceback (most recent call last)",
      "Cell \u001b[1;32mIn[1], line 2\u001b[0m\n\u001b[0;32m      1\u001b[0m age \u001b[38;5;241m=\u001b[39m \u001b[38;5;241m44\u001b[39m\n\u001b[1;32m----> 2\u001b[0m x \u001b[38;5;241m=\u001b[39m \u001b[38;5;124;43m\"\u001b[39;49m\u001b[38;5;124;43mThe person\u001b[39;49m\u001b[38;5;124;43m'\u001b[39;49m\u001b[38;5;124;43ms age is\u001b[39;49m\u001b[38;5;124;43m\"\u001b[39;49m\u001b[43m \u001b[49m\u001b[38;5;241;43m+\u001b[39;49m\u001b[43m \u001b[49m\u001b[43mage\u001b[49m\n\u001b[0;32m      3\u001b[0m \u001b[38;5;28mprint\u001b[39m(x)\n",
      "\u001b[1;31mTypeError\u001b[0m: can only concatenate str (not \"int\") to str"
     ]
    }
   ],
   "source": [
    "age = 44\n",
    "x = \"The person's age is\" + age\n",
    "print(x)"
   ]
  },
  {
   "cell_type": "markdown",
   "id": "b4495fc2",
   "metadata": {},
   "source": [
    "We can use the format method to cope up with this method"
   ]
  },
  {
   "cell_type": "code",
   "execution_count": null,
   "id": "bcef17ff",
   "metadata": {},
   "outputs": [
    {
     "name": "stdout",
     "output_type": "stream",
     "text": [
      "The person's age is 32\n"
     ]
    }
   ],
   "source": [
    "age = 32\n",
    "x = f\"The person's age is {age}\" # Using f-string for formatting\n",
    "print(x)"
   ]
  },
  {
   "cell_type": "markdown",
   "id": "70c4e1f5",
   "metadata": {},
   "source": [
    "Placeholder & Modifiers"
   ]
  },
  {
   "cell_type": "code",
   "execution_count": null,
   "id": "f6087d13",
   "metadata": {},
   "outputs": [
    {
     "name": "stdout",
     "output_type": "stream",
     "text": [
      "The price of the item is 69.00 rupees\n"
     ]
    }
   ],
   "source": [
    "price = 69\n",
    "x = f\"The price of the item is {price:.2f} rupees\" # :.2f formats the number to 2 decimal places this is a modifier\n",
    "print(x)"
   ]
  },
  {
   "cell_type": "code",
   "execution_count": null,
   "id": "f327ca65",
   "metadata": {},
   "outputs": [
    {
     "name": "stdout",
     "output_type": "stream",
     "text": [
      "The price of the item is 1380 rupees\n"
     ]
    }
   ],
   "source": [
    "x = f\"The price of the item is {20 * 69} rupees\" # placeholder can also be math operations\n",
    "print(x)"
   ]
  },
  {
   "cell_type": "code",
   "execution_count": null,
   "id": "b55ee18c",
   "metadata": {},
   "outputs": [],
   "source": []
  }
 ],
 "metadata": {
  "kernelspec": {
   "display_name": "Python 3",
   "language": "python",
   "name": "python3"
  },
  "language_info": {
   "codemirror_mode": {
    "name": "ipython",
    "version": 3
   },
   "file_extension": ".py",
   "mimetype": "text/x-python",
   "name": "python",
   "nbconvert_exporter": "python",
   "pygments_lexer": "ipython3",
   "version": "3.11.0"
  }
 },
 "nbformat": 4,
 "nbformat_minor": 5
}
