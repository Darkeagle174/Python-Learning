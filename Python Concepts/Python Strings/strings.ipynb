{
 "cells": [
  {
   "cell_type": "markdown",
   "id": "99d02204",
   "metadata": {},
   "source": [
    "Python String Data Type\n",
    "Strings in python are surrounded by either single quotation marks, or double quotation marks.\n",
    "'hello' is the same as \"hello\"."
   ]
  },
  {
   "cell_type": "markdown",
   "id": "b5261f3e",
   "metadata": {},
   "source": [
    "Quotes inside quotes\n",
    "We can use quotes inside strings as long as they don;t match the surrounding strings"
   ]
  },
  {
   "cell_type": "code",
   "execution_count": 2,
   "id": "654a3ac5",
   "metadata": {},
   "outputs": [
    {
     "name": "stdout",
     "output_type": "stream",
     "text": [
      "It's a beautiful day!\n",
      "Let's 'Enjoy' it together!\n",
      "And make the \"most\" of it!\n"
     ]
    }
   ],
   "source": [
    "print(\"It's a beautiful day!\")\n",
    "print(\"Let's 'Enjoy' it together!\")\n",
    "print('And make the \"most\" of it!')\n",
    "#print(\"Remember, every day is a new \"opportunity\"!\") # This line has a syntax error because of the same quotes used"
   ]
  },
  {
   "cell_type": "markdown",
   "id": "f78394ab",
   "metadata": {},
   "source": [
    "Assigning Strings to variable"
   ]
  },
  {
   "cell_type": "code",
   "execution_count": 3,
   "id": "65dee465",
   "metadata": {},
   "outputs": [
    {
     "name": "stdout",
     "output_type": "stream",
     "text": [
      "This ia a string 53\n"
     ]
    }
   ],
   "source": [
    "a = \"This ia a string\"\n",
    "b = str(53) # converting integer to string\n",
    "print(a,b)\n"
   ]
  },
  {
   "cell_type": "markdown",
   "id": "7c0c833f",
   "metadata": {},
   "source": [
    "Multiline Strings\n",
    "Using 3 double or single quotes you can write multiline strings similar to multiline comments \n",
    "\n",
    "The Line breaks are inserted in the same way as in the code"
   ]
  },
  {
   "cell_type": "code",
   "execution_count": 4,
   "id": "94df98ca",
   "metadata": {},
   "outputs": [
    {
     "name": "stdout",
     "output_type": "stream",
     "text": [
      "This is a multiline string \n",
      "You can write as many lines as you want\n",
      "It will be treated as a single string\n"
     ]
    }
   ],
   "source": [
    "a = \"\"\"This is a multiline string \n",
    "You can write as many lines as you want\n",
    "It will be treated as a single string\"\"\"\n",
    "\n",
    "print(a)"
   ]
  },
  {
   "cell_type": "markdown",
   "id": "947ec816",
   "metadata": {},
   "source": [
    "Strings are arrays \n",
    "Similar to other languages the strings in python are arrays  of bytes "
   ]
  },
  {
   "cell_type": "code",
   "execution_count": null,
   "id": "7f02505f",
   "metadata": {},
   "outputs": [
    {
     "name": "stdout",
     "output_type": "stream",
     "text": [
      "l\n"
     ]
    }
   ],
   "source": [
    "x = 'hello'\n",
    "print(x[2]) #returns element at index 2"
   ]
  },
  {
   "cell_type": "markdown",
   "id": "497cd836",
   "metadata": {},
   "source": [
    "Looping Through Strings\n",
    "Since strings are similar to arrays we can loop through every character \n",
    "We can use \"for\" loop for it"
   ]
  },
  {
   "cell_type": "code",
   "execution_count": 2,
   "id": "f6a2607f",
   "metadata": {},
   "outputs": [
    {
     "name": "stdout",
     "output_type": "stream",
     "text": [
      "T\n",
      "r\n",
      "a\n",
      "i\n",
      "n\n"
     ]
    }
   ],
   "source": [
    "for x in \"Train\":\n",
    "    print(x) #prints each character in the string \"Train\" on a new line"
   ]
  },
  {
   "cell_type": "markdown",
   "id": "7875ef83",
   "metadata": {},
   "source": [
    "String Length\n",
    "To get the length of string we use \"len()\" function"
   ]
  },
  {
   "cell_type": "code",
   "execution_count": 3,
   "id": "7b88b6b0",
   "metadata": {},
   "outputs": [
    {
     "name": "stdout",
     "output_type": "stream",
     "text": [
      "16\n"
     ]
    }
   ],
   "source": [
    "x = \"Rajdhani Express\"\n",
    "print(len(x)) #prints the length of the string x"
   ]
  },
  {
   "cell_type": "markdown",
   "id": "7f132120",
   "metadata": {},
   "source": [
    "Check String\n",
    "Checking string for an existing specific word or something "
   ]
  },
  {
   "cell_type": "code",
   "execution_count": null,
   "id": "9e13c977",
   "metadata": {},
   "outputs": [
    {
     "name": "stdout",
     "output_type": "stream",
     "text": [
      "True\n"
     ]
    }
   ],
   "source": [
    "x = \"Vande Bharat is the Fastest Train in India\"\n",
    "print(\"Fastest\" in x) #checks if \"Fastest\" is present in the string x\n",
    "#output is boolean value True or False"
   ]
  },
  {
   "cell_type": "code",
   "execution_count": 5,
   "id": "ad9c522e",
   "metadata": {},
   "outputs": [
    {
     "name": "stdout",
     "output_type": "stream",
     "text": [
      "Yes, Gatiman is present in the string.\n"
     ]
    }
   ],
   "source": [
    "#Improvised Version\n",
    "x = \"Gatiman Express is the Fastest Train in India\"\n",
    "if \"Gatiman\" in x:\n",
    "    print(\"Yes, Gatiman is present in the string.\")"
   ]
  },
  {
   "cell_type": "markdown",
   "id": "57ee88f6",
   "metadata": {},
   "source": [
    "Check if NOT\n",
    "Checking if something is not presetn in the strings"
   ]
  },
  {
   "cell_type": "code",
   "execution_count": 6,
   "id": "9626468e",
   "metadata": {},
   "outputs": [
    {
     "name": "stdout",
     "output_type": "stream",
     "text": [
      "Yes, Vande Bharat is not present in the string.\n"
     ]
    }
   ],
   "source": [
    "x = \"Gatiman Express is the Fastest Train in India\"\n",
    "if \"Vande Bharat\" not in x:\n",
    "    print(\"Yes, Vande Bharat is not present in the string.\")"
   ]
  }
 ],
 "metadata": {
  "kernelspec": {
   "display_name": "Python 3",
   "language": "python",
   "name": "python3"
  },
  "language_info": {
   "codemirror_mode": {
    "name": "ipython",
    "version": 3
   },
   "file_extension": ".py",
   "mimetype": "text/x-python",
   "name": "python",
   "nbconvert_exporter": "python",
   "pygments_lexer": "ipython3",
   "version": "3.11.0"
  }
 },
 "nbformat": 4,
 "nbformat_minor": 5
}
