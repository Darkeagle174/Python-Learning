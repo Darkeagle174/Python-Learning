{
 "cells": [
  {
   "cell_type": "markdown",
   "id": "08b6f418",
   "metadata": {},
   "source": [
    "Escape Character\n",
    "Think of it as Smuggling Illegal stuff across borders \n",
    "Here we are allowing illegal characters in the string like \"\", '', etc.\n",
    "For this we use / backslash"
   ]
  },
  {
   "cell_type": "code",
   "execution_count": null,
   "id": "043bc498",
   "metadata": {},
   "outputs": [],
   "source": []
  }
 ],
 "metadata": {
  "language_info": {
   "name": "python"
  }
 },
 "nbformat": 4,
 "nbformat_minor": 5
}
