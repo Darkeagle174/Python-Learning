{
 "cells": [
  {
   "cell_type": "markdown",
   "id": "08b6f418",
   "metadata": {},
   "source": [
    "Escape Character\n",
    "Think of it as Smuggling Illegal stuff across borders \n",
    "Here we are allowing illegal characters in the string like \"\", '', etc.\n",
    "For this we use \\ backslash"
   ]
  },
  {
   "cell_type": "code",
   "execution_count": null,
   "id": "043bc498",
   "metadata": {},
   "outputs": [
    {
     "ename": "SyntaxError",
     "evalue": "invalid syntax (3410375859.py, line 1)",
     "output_type": "error",
     "traceback": [
      "\u001b[1;36m  Cell \u001b[1;32mIn[2], line 1\u001b[1;36m\u001b[0m\n\u001b[1;33m    x = 'We are the 'railfans' of India'\u001b[0m\n\u001b[1;37m                     ^\u001b[0m\n\u001b[1;31mSyntaxError\u001b[0m\u001b[1;31m:\u001b[0m invalid syntax\n"
     ]
    }
   ],
   "source": [
    "x = 'We are the 'railfans' of India' # This will throw an error because of the single quotes in the string\n",
    "print(x)"
   ]
  },
  {
   "cell_type": "markdown",
   "id": "7caf5c8c",
   "metadata": {},
   "source": [
    "So now will we use backslash '\\' to cope up with this error"
   ]
  },
  {
   "cell_type": "code",
   "execution_count": 4,
   "id": "3b047867",
   "metadata": {},
   "outputs": [
    {
     "name": "stdout",
     "output_type": "stream",
     "text": [
      "I am  the \"King\" of Schwaserland\n"
     ]
    }
   ],
   "source": [
    "x = 'I am  the \\\"King\\\" of Schwaserland'\n",
    "print(x)"
   ]
  },
  {
   "cell_type": "markdown",
   "id": "48e43cd9",
   "metadata": {},
   "source": [
    "The following are the escape characters of Python:\n",
    "\\' Single Quote\n",
    "\\\\ Backslash\n",
    "\\n new line\n",
    "\\r carriage return\n",
    "\\t tab \n",
    "\\b backspace\n",
    "\\f form feed\n",
    "\\ooo Octal value\n",
    "\\xhh Hex value"
   ]
  }
 ],
 "metadata": {
  "kernelspec": {
   "display_name": "Python 3",
   "language": "python",
   "name": "python3"
  },
  "language_info": {
   "codemirror_mode": {
    "name": "ipython",
    "version": 3
   },
   "file_extension": ".py",
   "mimetype": "text/x-python",
   "name": "python",
   "nbconvert_exporter": "python",
   "pygments_lexer": "ipython3",
   "version": "3.11.0"
  }
 },
 "nbformat": 4,
 "nbformat_minor": 5
}
