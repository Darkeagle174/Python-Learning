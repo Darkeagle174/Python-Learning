{
 "cells": [
  {
   "cell_type": "markdown",
   "id": "611c3ee8",
   "metadata": {},
   "source": [
    "String Modify\n",
    "They are set of built-in methods to be used on  strings "
   ]
  },
  {
   "cell_type": "markdown",
   "id": "af7b53b9",
   "metadata": {},
   "source": [
    "Uppercase\n",
    "helps convert string into all caps or uppercase using function upper()"
   ]
  },
  {
   "cell_type": "code",
   "execution_count": 1,
   "id": "320c354f",
   "metadata": {},
   "outputs": [
    {
     "name": "stdout",
     "output_type": "stream",
     "text": [
      "TRAINS ARE THE BEST MODE OF TRANSPORT\n"
     ]
    }
   ],
   "source": [
    "a = 'Trains are the best mode of transport'\n",
    "print(a.upper())"
   ]
  },
  {
   "cell_type": "markdown",
   "id": "ab63b0ad",
   "metadata": {},
   "source": [
    "Lowercase\n",
    "Helps convert string into all small using the function lower()"
   ]
  },
  {
   "cell_type": "code",
   "execution_count": 2,
   "id": "e3798aa7",
   "metadata": {},
   "outputs": [
    {
     "name": "stdout",
     "output_type": "stream",
     "text": [
      "airplanes are shit\n"
     ]
    }
   ],
   "source": [
    "b = 'Airplanes are shit'\n",
    "print(b.lower())"
   ]
  },
  {
   "cell_type": "markdown",
   "id": "10dd9df4",
   "metadata": {},
   "source": [
    "Remove Whitespace\n",
    "The Space before & after the text is known as white space we can remove it by using strip() function"
   ]
  },
  {
   "cell_type": "code",
   "execution_count": 4,
   "id": "6a6cc217",
   "metadata": {},
   "outputs": [
    {
     "name": "stdout",
     "output_type": "stream",
     "text": [
      "Lolzzzzzzz\n"
     ]
    }
   ],
   "source": [
    "x =' Lolzzzzzzz '\n",
    "print(x.strip())"
   ]
  },
  {
   "cell_type": "markdown",
   "id": "c0bc9a30",
   "metadata": {},
   "source": [
    "Replace String\n",
    "We can replace any character in the string using the replace()"
   ]
  },
  {
   "cell_type": "code",
   "execution_count": 5,
   "id": "d686bc26",
   "metadata": {},
   "outputs": [
    {
     "name": "stdout",
     "output_type": "stream",
     "text": [
      "Mumbai Local is the lifeline of mumbai\n"
     ]
    }
   ],
   "source": [
    "x = \"Best is the lifeline of mumbai\"\n",
    "print(x.replace('Best', 'Mumbai Local'))"
   ]
  },
  {
   "cell_type": "markdown",
   "id": "3aabfe74",
   "metadata": {},
   "source": [
    "Split String\n",
    "We can split a single dtring into 2 using split function"
   ]
  },
  {
   "cell_type": "code",
   "execution_count": 8,
   "id": "5c1203fd",
   "metadata": {},
   "outputs": [
    {
     "name": "stdout",
     "output_type": "stream",
     "text": [
      "['Nagpur is The Best City', ' to live in maharashtra']\n"
     ]
    }
   ],
   "source": [
    "x = \"Nagpur is The Best City, to live in maharashtra\"\n",
    "print(x.split(\",\"))"
   ]
  },
  {
   "cell_type": "markdown",
   "id": "565caba7",
   "metadata": {},
   "source": []
  }
 ],
 "metadata": {
  "kernelspec": {
   "display_name": "Python 3",
   "language": "python",
   "name": "python3"
  },
  "language_info": {
   "codemirror_mode": {
    "name": "ipython",
    "version": 3
   },
   "file_extension": ".py",
   "mimetype": "text/x-python",
   "name": "python",
   "nbconvert_exporter": "python",
   "pygments_lexer": "ipython3",
   "version": "3.11.0"
  }
 },
 "nbformat": 4,
 "nbformat_minor": 5
}
