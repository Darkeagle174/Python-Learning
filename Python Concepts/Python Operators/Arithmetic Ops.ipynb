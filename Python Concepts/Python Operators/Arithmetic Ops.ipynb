{
 "cells": [
  {
   "cell_type": "markdown",
   "id": "4175fef8",
   "metadata": {},
   "source": [
    "Arithmetic Operators\n",
    "Used with numeric values to perform mathematical operations."
   ]
  },
  {
   "cell_type": "markdown",
   "id": "490016cb",
   "metadata": {},
   "source": [
    "Addition Operator\n",
    "Used to Sum up values & variables"
   ]
  },
  {
   "cell_type": "code",
   "execution_count": 1,
   "id": "8bb38467",
   "metadata": {},
   "outputs": [
    {
     "name": "stdout",
     "output_type": "stream",
     "text": [
      "11\n"
     ]
    }
   ],
   "source": [
    "x= 9 \n",
    "y = 2\n",
    "print(x+y)"
   ]
  },
  {
   "cell_type": "markdown",
   "id": "300c3550",
   "metadata": {},
   "source": [
    "Subtraction Operator\n",
    "Used to Subtract values & variables"
   ]
  },
  {
   "cell_type": "code",
   "execution_count": 2,
   "id": "26863be1",
   "metadata": {},
   "outputs": [
    {
     "name": "stdout",
     "output_type": "stream",
     "text": [
      "7\n"
     ]
    }
   ],
   "source": [
    "print(x-y)"
   ]
  },
  {
   "cell_type": "markdown",
   "id": "d704ca33",
   "metadata": {},
   "source": [
    "Multiplication Operator\n",
    "Used to Multiply values & variables"
   ]
  },
  {
   "cell_type": "code",
   "execution_count": 3,
   "id": "6cd01751",
   "metadata": {},
   "outputs": [
    {
     "name": "stdout",
     "output_type": "stream",
     "text": [
      "18\n"
     ]
    }
   ],
   "source": [
    "print(x*y)"
   ]
  },
  {
   "cell_type": "markdown",
   "id": "6a10d6c9",
   "metadata": {},
   "source": [
    "Division Operator\n",
    "Used to Divide values & variables"
   ]
  },
  {
   "cell_type": "code",
   "execution_count": 4,
   "id": "3e83bd37",
   "metadata": {},
   "outputs": [
    {
     "name": "stdout",
     "output_type": "stream",
     "text": [
      "4.5\n"
     ]
    }
   ],
   "source": [
    "print(x/y)"
   ]
  },
  {
   "cell_type": "markdown",
   "id": "96d3bf1e",
   "metadata": {},
   "source": [
    "Modulus Operator\n",
    "Used to get the Remainder of a Division"
   ]
  },
  {
   "cell_type": "code",
   "execution_count": 5,
   "id": "1624cee5",
   "metadata": {},
   "outputs": [
    {
     "name": "stdout",
     "output_type": "stream",
     "text": [
      "1\n"
     ]
    }
   ],
   "source": [
    "print(x%y)"
   ]
  },
  {
   "cell_type": "markdown",
   "id": "e44370b0",
   "metadata": {},
   "source": [
    "Exponentiation Operator\n",
    "Used to Raise a Number to a Power"
   ]
  },
  {
   "cell_type": "code",
   "execution_count": 8,
   "id": "da4a4b7e",
   "metadata": {},
   "outputs": [
    {
     "name": "stdout",
     "output_type": "stream",
     "text": [
      "81\n"
     ]
    }
   ],
   "source": [
    "print(x**y)"
   ]
  },
  {
   "cell_type": "markdown",
   "id": "fefd56d4",
   "metadata": {},
   "source": [
    "Floor Division Operator\n",
    "Used to Divide and Round Down to the Nearest Whole Number"
   ]
  },
  {
   "cell_type": "code",
   "execution_count": 9,
   "id": "ebffd719",
   "metadata": {},
   "outputs": [
    {
     "name": "stdout",
     "output_type": "stream",
     "text": [
      "4\n"
     ]
    }
   ],
   "source": [
    "print(x//y)"
   ]
  }
 ],
 "metadata": {
  "kernelspec": {
   "display_name": "Python 3",
   "language": "python",
   "name": "python3"
  },
  "language_info": {
   "codemirror_mode": {
    "name": "ipython",
    "version": 3
   },
   "file_extension": ".py",
   "mimetype": "text/x-python",
   "name": "python",
   "nbconvert_exporter": "python",
   "pygments_lexer": "ipython3",
   "version": "3.11.0"
  }
 },
 "nbformat": 4,
 "nbformat_minor": 5
}
