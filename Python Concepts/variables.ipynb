{
 "cells": [
  {
   "cell_type": "markdown",
   "id": "cbd5c553",
   "metadata": {},
   "source": [
    "Python Variables"
   ]
  },
  {
   "cell_type": "markdown",
   "id": "427a1f4c",
   "metadata": {},
   "source": [
    "Variables are containers for storing data values\n",
    "Variables do not need to be declared with any particular type and can even change type after they have been set.\n",
    "Variables can be assigned a value using the assignment operator '='."
   ]
  },
  {
   "cell_type": "markdown",
   "id": "69d3f410",
   "metadata": {},
   "source": [
    "Rules for Python variables:\n",
    "\n",
    "A variable name must start with a letter or the underscore character\n",
    "A variable name cannot start with a number\n",
    "A variable name can only contain alpha-numeric characters and underscores (A-z, 0-9, and _ )\n",
    "Variable names are case-sensitive (age, Age and AGE are three different variables)\n",
    "A variable name cannot be any of the Python keywords."
   ]
  },
  {
   "cell_type": "markdown",
   "id": "77516506",
   "metadata": {},
   "source": [
    "Legal variable names"
   ]
  },
  {
   "cell_type": "code",
   "execution_count": 1,
   "id": "5c7a3cdb",
   "metadata": {},
   "outputs": [],
   "source": [
    "myvar = 1\n",
    "my_var = 2\n",
    "_my_var = 3\n",
    "myVar = 4\n",
    "MYVAR = 5\n",
    "myvar2 = 6"
   ]
  },
  {
   "cell_type": "markdown",
   "id": "2bf9f01c",
   "metadata": {},
   "source": [
    "Illegal variable names"
   ]
  },
  {
   "cell_type": "code",
   "execution_count": 2,
   "id": "f0e29e43",
   "metadata": {},
   "outputs": [
    {
     "ename": "SyntaxError",
     "evalue": "invalid decimal literal (2291537895.py, line 1)",
     "output_type": "error",
     "traceback": [
      "\u001b[1;36m  Cell \u001b[1;32mIn[2], line 1\u001b[1;36m\u001b[0m\n\u001b[1;33m    2myvar = 1\u001b[0m\n\u001b[1;37m    ^\u001b[0m\n\u001b[1;31mSyntaxError\u001b[0m\u001b[1;31m:\u001b[0m invalid decimal literal\n"
     ]
    }
   ],
   "source": [
    "2myvar = 1\n",
    "my-var = 2\n",
    "my var = 3"
   ]
  },
  {
   "cell_type": "markdown",
   "id": "287cd3c5",
   "metadata": {},
   "source": [
    "Camel Case\n",
    "Camel case is a naming convention where the first letter of each word is capitalized except for the first word."
   ]
  },
  {
   "cell_type": "code",
   "execution_count": 16,
   "id": "7de035f5",
   "metadata": {},
   "outputs": [
    {
     "name": "stdout",
     "output_type": "stream",
     "text": [
      "CamelCase\n"
     ]
    }
   ],
   "source": [
    "myVariableName = \"CamelCase\"\n",
    "print(myVariableName)"
   ]
  },
  {
   "cell_type": "markdown",
   "id": "94926f5a",
   "metadata": {},
   "source": [
    "Pascal Case\n",
    "Pascal case is similar to camel case, but the first letter of each word is also capitalized."
   ]
  },
  {
   "cell_type": "code",
   "execution_count": 15,
   "id": "0eb06efa",
   "metadata": {},
   "outputs": [
    {
     "name": "stdout",
     "output_type": "stream",
     "text": [
      "PascalCase\n"
     ]
    }
   ],
   "source": [
    "MyVariableName = \"PascalCase\"\n",
    "print(MyVariableName)"
   ]
  },
  {
   "cell_type": "markdown",
   "id": "0c07909a",
   "metadata": {},
   "source": [
    "Snake Case\n",
    "Snake case is a naming convention where words are separated by underscores and all letters are lowercase."
   ]
  },
  {
   "cell_type": "code",
   "execution_count": 13,
   "id": "966c356e",
   "metadata": {},
   "outputs": [
    {
     "name": "stdout",
     "output_type": "stream",
     "text": [
      "snake_case\n"
     ]
    }
   ],
   "source": [
    "my_variable_name = \"snake_case\"\n",
    "print(my_variable_name)"
   ]
  },
  {
   "cell_type": "code",
   "execution_count": 11,
   "id": "82ada0bc",
   "metadata": {},
   "outputs": [
    {
     "name": "stdout",
     "output_type": "stream",
     "text": [
      "5\n",
      "Hello, World!\n",
      "3.14\n"
     ]
    }
   ],
   "source": [
    "x = 5  #this is an integer variable\n",
    "y = \"Hello, World!\"  #this is a string variable\n",
    "z = 3.14  #this is a float variable\n",
    "\n",
    "print(x)\n",
    "print(y)\n",
    "print(z)"
   ]
  },
  {
   "cell_type": "markdown",
   "id": "8f095a9c",
   "metadata": {},
   "source": [
    "Casting\n",
    "Casting is the process of converting a variable from one type to another."
   ]
  },
  {
   "cell_type": "code",
   "execution_count": 12,
   "id": "91c2bc95",
   "metadata": {},
   "outputs": [
    {
     "name": "stdout",
     "output_type": "stream",
     "text": [
      "5\n"
     ]
    }
   ],
   "source": [
    "x = str(x)  #convert x to string\n",
    "print(x)"
   ]
  },
  {
   "cell_type": "markdown",
   "id": "ea4aad2c",
   "metadata": {},
   "source": [
    "Also used  to specify the type of a variable when it is created."
   ]
  },
  {
   "cell_type": "code",
   "execution_count": 9,
   "id": "ce54b743",
   "metadata": {},
   "outputs": [],
   "source": [
    "a = int(5)  #convert a to integer"
   ]
  },
  {
   "cell_type": "markdown",
   "id": "516e8b07",
   "metadata": {},
   "source": [
    "Get the Type\n",
    "Helps you get the data type of a variable."
   ]
  },
  {
   "cell_type": "code",
   "execution_count": 8,
   "id": "4f4f780a",
   "metadata": {},
   "outputs": [
    {
     "name": "stdout",
     "output_type": "stream",
     "text": [
      "<class 'str'>\n"
     ]
    }
   ],
   "source": [
    "print(type(x)) #check the type of x"
   ]
  },
  {
   "cell_type": "markdown",
   "id": "cfd9d98f",
   "metadata": {},
   "source": [
    "Types of Variable:\n",
    "Integer, String, Float, Double, Char, Varchar, Boolean\n",
    "String variables can be declared either by using single or double quotes."
   ]
  },
  {
   "cell_type": "code",
   "execution_count": 7,
   "id": "b92490e3",
   "metadata": {},
   "outputs": [],
   "source": [
    "c = \"Hello\"\n",
    "b = 'World'\n",
    "a = 5\n",
    "d = 3.14\n",
    "e = True"
   ]
  },
  {
   "cell_type": "markdown",
   "id": "fd8324e3",
   "metadata": {},
   "source": [
    "Case Sensitivity\n",
    "Variable names are case-sensitive."
   ]
  },
  {
   "cell_type": "code",
   "execution_count": 6,
   "id": "e3cbbf83",
   "metadata": {},
   "outputs": [
    {
     "name": "stdout",
     "output_type": "stream",
     "text": [
      "5\n",
      "10\n"
     ]
    }
   ],
   "source": [
    "D = 5\n",
    "d = 10\n",
    "print(D)\n",
    "print(d)"
   ]
  },
  {
   "cell_type": "markdown",
   "id": "1ee93412",
   "metadata": {},
   "source": [
    "Assigning Multiple Values\n",
    "You can assign multiple variables in one line."
   ]
  },
  {
   "cell_type": "code",
   "execution_count": 5,
   "id": "62bc75c2",
   "metadata": {},
   "outputs": [
    {
     "name": "stdout",
     "output_type": "stream",
     "text": [
      "Orange\n",
      "Banana\n",
      "Cherry\n"
     ]
    }
   ],
   "source": [
    "x,y,z = \"Orange\", \"Banana\", \"Cherry\"\n",
    "print(x)\n",
    "print(y)\n",
    "print(z)\n"
   ]
  },
  {
   "cell_type": "markdown",
   "id": "e372b068",
   "metadata": {},
   "source": [
    "One Value to Multiple Variables\n",
    "you can assign the same value to multiple variables in one line:"
   ]
  },
  {
   "cell_type": "code",
   "execution_count": 4,
   "id": "bbc1de2c",
   "metadata": {},
   "outputs": [
    {
     "name": "stdout",
     "output_type": "stream",
     "text": [
      "Orange\n",
      "Orange\n",
      "Orange\n"
     ]
    }
   ],
   "source": [
    "x = y = z = \"Orange\"\n",
    "print(x)\n",
    "print(y)\n",
    "print(z)\n"
   ]
  },
  {
   "cell_type": "markdown",
   "id": "51162f08",
   "metadata": {},
   "source": [
    "Unpacking Collections\n",
    "If you have a collection of values in a list, tuple etc. Python allows you to extract values into variables. This  is called Unpacking"
   ]
  },
  {
   "cell_type": "code",
   "execution_count": 3,
   "id": "79d23f0b",
   "metadata": {},
   "outputs": [
    {
     "name": "stdout",
     "output_type": "stream",
     "text": [
      "apple\n",
      "mango\n",
      "cherry\n"
     ]
    }
   ],
   "source": [
    "fruits = [\"apple\", \"mango\", \"cherry\"]\n",
    "x,y,z = fruits\n",
    "print(x)\n",
    "print(y)\n",
    "print(z)"
   ]
  },
  {
   "cell_type": "markdown",
   "id": "64f8460d",
   "metadata": {},
   "source": [
    "You can get the output of a variable by using the print() function.\n",
    "you can also get the output of multiple variables by using print() function and using commas to separate them"
   ]
  },
  {
   "cell_type": "markdown",
   "id": "3611e2ea",
   "metadata": {},
   "source": [
    "Global Variables \n",
    "Variables created outside of a function are known as global variables\n",
    "\n",
    "They can be used both inside and outside the function"
   ]
  },
  {
   "cell_type": "code",
   "execution_count": 18,
   "id": "f73845cf",
   "metadata": {},
   "outputs": [
    {
     "name": "stdout",
     "output_type": "stream",
     "text": [
      "Python is Fantabulous\n"
     ]
    }
   ],
   "source": [
    "x = \"Fantabulous\"\n",
    "\n",
    "def my_func():\n",
    "    print(\"Python is \" + x)\n",
    "    \n",
    "my_func()"
   ]
  },
  {
   "cell_type": "markdown",
   "id": "29a59a87",
   "metadata": {},
   "source": [
    "Local Variable\n",
    "If you create a variable inside the function then it will be a local variable emaning it can be used only inside the function\n",
    "\n",
    "While the Global variable remains as it is untouched"
   ]
  },
  {
   "cell_type": "code",
   "execution_count": 19,
   "id": "b0fa605a",
   "metadata": {},
   "outputs": [
    {
     "name": "stdout",
     "output_type": "stream",
     "text": [
      "Python is Awesome\n",
      "Hitler was Fantabulous\n"
     ]
    }
   ],
   "source": [
    "x = \"Fantabulous\"\n",
    "\n",
    "def my_func():\n",
    "    x = \"Awesome\"\n",
    "    print(\"Python is \" + x)\n",
    "    \n",
    "my_func()\n",
    "\n",
    "print(\"Hitler was \" + x)"
   ]
  },
  {
   "cell_type": "markdown",
   "id": "6461a546",
   "metadata": {},
   "source": [
    "Global Keyboard\n",
    "It is used to create a global variable inside a function"
   ]
  },
  {
   "cell_type": "code",
   "execution_count": 20,
   "id": "6b0eefc2",
   "metadata": {},
   "outputs": [
    {
     "name": "stdout",
     "output_type": "stream",
     "text": [
      "Python is fantabulous\n"
     ]
    }
   ],
   "source": [
    "def myfunc():\n",
    "    global x\n",
    "    x = \"fantabulous\"\n",
    "    \n",
    "myfunc()\n",
    "\n",
    "print(\"Python is \" + x)"
   ]
  },
  {
   "cell_type": "markdown",
   "id": "b9cc45f1",
   "metadata": {},
   "source": [
    "You can also use the global keyword to change the value of global variable inside a function "
   ]
  },
  {
   "cell_type": "code",
   "execution_count": 21,
   "id": "9b321187",
   "metadata": {},
   "outputs": [
    {
     "name": "stdout",
     "output_type": "stream",
     "text": [
      "Hitler was the Greatest\n"
     ]
    }
   ],
   "source": [
    "x = \"Great\"\n",
    "\n",
    "def myfunc():\n",
    "    global x\n",
    "    x = \"was the Greatest\"\n",
    "myfunc()\n",
    "\n",
    "print(\"Hitler \" + x)"
   ]
  }
 ],
 "metadata": {
  "kernelspec": {
   "display_name": "Python 3",
   "language": "python",
   "name": "python3"
  },
  "language_info": {
   "codemirror_mode": {
    "name": "ipython",
    "version": 3
   },
   "file_extension": ".py",
   "mimetype": "text/x-python",
   "name": "python",
   "nbconvert_exporter": "python",
   "pygments_lexer": "ipython3",
   "version": "3.11.0"
  }
 },
 "nbformat": 4,
 "nbformat_minor": 5
}
