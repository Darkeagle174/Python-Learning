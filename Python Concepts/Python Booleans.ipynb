{
 "cells": [
  {
   "cell_type": "markdown",
   "id": "57119473",
   "metadata": {},
   "source": [
    "Python Booleans"
   ]
  },
  {
   "cell_type": "markdown",
   "id": "b98935ff",
   "metadata": {},
   "source": [
    "In Python you need to often express an expression in either true or false"
   ]
  },
  {
   "cell_type": "code",
   "execution_count": 1,
   "id": "a01a9d24",
   "metadata": {},
   "outputs": [
    {
     "name": "stdout",
     "output_type": "stream",
     "text": [
      "True\n",
      "True\n",
      "False\n"
     ]
    }
   ],
   "source": [
    "print(10>9)\n",
    "print(9==9)\n",
    "print(10<9)\n"
   ]
  },
  {
   "cell_type": "markdown",
   "id": "fdc9924c",
   "metadata": {},
   "source": [
    "Boolan in if-else condition statement while printing the statement"
   ]
  },
  {
   "cell_type": "code",
   "execution_count": 2,
   "id": "c0bfaeb1",
   "metadata": {},
   "outputs": [
    {
     "name": "stdout",
     "output_type": "stream",
     "text": [
      "a is greater than b\n"
     ]
    }
   ],
   "source": [
    "a = 200\n",
    "b =187\n",
    "if a>b:\n",
    "    print('a is greater than b')\n",
    "else:\n",
    "    print('b is greater than a')"
   ]
  },
  {
   "cell_type": "markdown",
   "id": "bace7c0e",
   "metadata": {},
   "source": [
    "The bool() Function\n",
    "It helps you evaluate anything to true or false"
   ]
  },
  {
   "cell_type": "code",
   "execution_count": 3,
   "id": "b2116016",
   "metadata": {},
   "outputs": [
    {
     "name": "stdout",
     "output_type": "stream",
     "text": [
      "True\n",
      "True\n"
     ]
    }
   ],
   "source": [
    "print(bool(\"Hello\"))\n",
    "print(bool(67))    "
   ]
  },
  {
   "cell_type": "markdown",
   "id": "0101cab3",
   "metadata": {},
   "source": [
    "As you can see that most of the value are true but there are some exceptions\n",
    "Like:\n",
    "Empty Strings, lists, tuples, sets, etc.\n",
    "and 0 "
   ]
  },
  {
   "cell_type": "code",
   "execution_count": 6,
   "id": "08905199",
   "metadata": {},
   "outputs": [
    {
     "name": "stdout",
     "output_type": "stream",
     "text": [
      "False\n",
      "False\n",
      "False\n",
      "False\n"
     ]
    }
   ],
   "source": [
    "print(bool(0))\n",
    "print(bool([]))\n",
    "print(bool(None))\n",
    "print(bool({}))"
   ]
  },
  {
   "cell_type": "markdown",
   "id": "51f1b99f",
   "metadata": {},
   "source": [
    "Functions can also return bool"
   ]
  },
  {
   "cell_type": "code",
   "execution_count": 7,
   "id": "77f8a71e",
   "metadata": {},
   "outputs": [
    {
     "name": "stdout",
     "output_type": "stream",
     "text": [
      "True\n"
     ]
    }
   ],
   "source": [
    "def my_func():\n",
    "    return True\n",
    "print(my_func())"
   ]
  },
  {
   "cell_type": "code",
   "execution_count": 8,
   "id": "a572b1d6",
   "metadata": {},
   "outputs": [
    {
     "name": "stdout",
     "output_type": "stream",
     "text": [
      "YES!!\n"
     ]
    }
   ],
   "source": [
    "def my_func():\n",
    "    return True\n",
    "if my_func():\n",
    "    print(\"YES!!\")\n",
    "else:\n",
    "    print(\"NO!!\")"
   ]
  },
  {
   "cell_type": "markdown",
   "id": "4baa9332",
   "metadata": {},
   "source": [
    "Python also has many in-built functions that return boolean like the following:\n",
    "isinstance() - Used to  determine if an object is of certain type"
   ]
  },
  {
   "cell_type": "code",
   "execution_count": 9,
   "id": "8f8b47c9",
   "metadata": {},
   "outputs": [
    {
     "name": "stdout",
     "output_type": "stream",
     "text": [
      "True\n"
     ]
    }
   ],
   "source": [
    "x = 200\n",
    "print(isinstance(x, int))"
   ]
  }
 ],
 "metadata": {
  "kernelspec": {
   "display_name": "Python 3",
   "language": "python",
   "name": "python3"
  },
  "language_info": {
   "codemirror_mode": {
    "name": "ipython",
    "version": 3
   },
   "file_extension": ".py",
   "mimetype": "text/x-python",
   "name": "python",
   "nbconvert_exporter": "python",
   "pygments_lexer": "ipython3",
   "version": "3.11.0"
  }
 },
 "nbformat": 4,
 "nbformat_minor": 5
}
